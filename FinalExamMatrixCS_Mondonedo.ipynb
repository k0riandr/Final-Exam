{
 "cells": [
  {
   "cell_type": "code",
   "execution_count": 170,
   "id": "f7744144-8799-428c-80a6-fa0b8fa24b3d",
   "metadata": {},
   "outputs": [
    {
     "name": "stdout",
     "output_type": "stream",
     "text": [
      "Generated 3x4 Matrix:\n",
      "[[ 8  4  1 14]\n",
      " [11  7  4 16]\n",
      " [16 14 11 14]]\n",
      "\n",
      "Coefficient Matrix (A):\n",
      "[[ 8  4  1]\n",
      " [11  7  4]\n",
      " [16 14 11]]\n",
      "\n",
      "Right-hand Side Vector (b):\n",
      "[14 16 14]\n"
     ]
    }
   ],
   "source": [
    "import numpy as np\n",
    "\n",
    "# Step 1: Generate a 3x4 random matrix\n",
    "matrix_3x4 = np.random.randint(1, 21, size=(3, 4))  # Adjust range as needed\n",
    "A = matrix_3x4[:, :3]  # Coefficient matrix (first 3 columns)\n",
    "b = matrix_3x4[:, 3]   # Right-hand side vector (last column)\n",
    "\n",
    "print(\"Generated 3x4 Matrix:\")\n",
    "print(matrix_3x4)\n",
    "print(\"\\nCoefficient Matrix (A):\")\n",
    "print(A)\n",
    "print(\"\\nRight-hand Side Vector (b):\")\n",
    "print(b)"
   ]
  },
  {
   "cell_type": "code",
   "execution_count": 185,
   "id": "6977e6b2-2c17-4e89-be83-f7490b6e7c9d",
   "metadata": {},
   "outputs": [
    {
     "name": "stdout",
     "output_type": "stream",
     "text": [
      "\n",
      "Solution using Matrix Inverse Method:\n",
      "[ 3.33333333 -3.33333333  0.66666667]\n",
      "\n",
      "Solution using Gaussian Elimination (NumPy):\n",
      "[ 3.33333333 -3.33333333  0.66666667]\n",
      "\n",
      "Verification (Ax = b):\n",
      "[14. 16. 14.]\n"
     ]
    }
   ],
   "source": [
    "# Solve using Matrix Inverse Method\n",
    "try:\n",
    "    A_inv = np.linalg.inv(A)  # Compute A^-1\n",
    "    x_manual = np.dot(A_inv, b)  # x = A^-1 * b\n",
    "    print(\"\\nSolution using Matrix Inverse Method:\")\n",
    "    print(x_manual)\n",
    "except np.linalg.LinAlgError:\n",
    "    print(\"\\nMatrix A is singular and cannot be inverted.\")\n",
    "\n",
    "# Solve using Gaussian Elimination\n",
    "x_gaussian = np.linalg.solve(A, b)  # Direct Gaussian elimination\n",
    "print(\"\\nSolution using Gaussian Elimination (NumPy):\")\n",
    "print(x_gaussian)\n",
    "\n",
    "# Verify the solution\n",
    "b_check = np.dot(A, x_gaussian)  # Recompute b using A and the computed x\n",
    "print(\"\\nVerification (Ax = b):\")\n",
    "print(b_check)\n",
    "\n"
   ]
  },
  {
   "cell_type": "code",
   "execution_count": null,
   "id": "ee3e9a19-b70b-433b-b063-d150440e600a",
   "metadata": {},
   "outputs": [],
   "source": []
  }
 ],
 "metadata": {
  "kernelspec": {
   "display_name": "Python 3 (ipykernel)",
   "language": "python",
   "name": "python3"
  },
  "language_info": {
   "codemirror_mode": {
    "name": "ipython",
    "version": 3
   },
   "file_extension": ".py",
   "mimetype": "text/x-python",
   "name": "python",
   "nbconvert_exporter": "python",
   "pygments_lexer": "ipython3",
   "version": "3.12.7"
  }
 },
 "nbformat": 4,
 "nbformat_minor": 5
}
